{
 "cells": [
  {
   "cell_type": "markdown",
   "metadata": {},
   "source": [
    "Hey this is Paul ,i have used the convexHull method to get  the finger count using euclidean distance..\n",
    "follow me on my insta handle @hack.it29"
   ]
  },
  {
   "cell_type": "code",
   "execution_count": 1,
   "metadata": {},
   "outputs": [],
   "source": [
    "import cv2\n",
    "import numpy as np\n",
    "from sklearn.metrics import pairwise"
   ]
  },
  {
   "cell_type": "code",
   "execution_count": 2,
   "metadata": {},
   "outputs": [],
   "source": [
    "background =None"
   ]
  },
  {
   "cell_type": "code",
   "execution_count": 3,
   "metadata": {},
   "outputs": [],
   "source": [
    "accumulated_weight =0.5"
   ]
  },
  {
   "cell_type": "code",
   "execution_count": 4,
   "metadata": {},
   "outputs": [],
   "source": [
    "roi_top= 20\n",
    "roi_bottom= 300\n",
    "roi_right = 300\n",
    "roi_let=600"
   ]
  },
  {
   "cell_type": "code",
   "execution_count": 5,
   "metadata": {},
   "outputs": [],
   "source": [
    "def calc_accum_avg(frame,accumulated_weight):\n",
    "    global background\n",
    "    if background is None:\n",
    "        background =frame.copy().astype(\"float\")\n",
    "        return None\n",
    "    \n",
    "    cv2.accumulateWeighted(frame,background,accumulated_weight)"
   ]
  },
  {
   "cell_type": "code",
   "execution_count": 6,
   "metadata": {},
   "outputs": [],
   "source": [
    "def segment(frame,threshold=25):\n",
    "    global background\n",
    "    diff = cv2.absdiff(background.astype(\"uint8\"),frame)\n",
    "     \n",
    "    ret,thresholded = cv2.threshold(diff,threshold,255,cv2.THRESH_BINARY)\n",
    "    image,contour,heirarchy =cv2.findContours(thresholded.copy(),cv2.RETR_EXTERNAL,cv2.CHAIN_APPROX_SIMPLE)\n",
    "    if len(contour)==0:\n",
    "        return None\n",
    "    else :\n",
    "        hand_segment=max(contour,key=cv2.contourArea)\n",
    "        \n",
    "    return (thresholded,hand_segment)"
   ]
  },
  {
   "cell_type": "code",
   "execution_count": 7,
   "metadata": {},
   "outputs": [],
   "source": [
    "def count_fingers(thresholded,hand_segment):\n",
    "    convex_hull=cv2.convexHull(hand_segment)\n",
    "    \n",
    "    top =    tuple(convex_hull[convex_hull[:, :, 1].argmin()][0])\n",
    "    bottom = tuple(convex_hull[convex_hull[:, :, 1].argmax()][0])\n",
    "    left   = tuple(convex_hull[convex_hull[:, :, 0].argmin()][0])\n",
    "    right  = tuple(convex_hull[convex_hull[:, :, 0].argmax()][0])\n",
    "    \n",
    "    center_X = (left[0]+right[0])//2\n",
    "    center_Y = (top[1]+bottom[1])//2\n",
    "    \n",
    "    distance = pairwise.euclidean_distances([(center_X, center_Y)], Y=[left, right, top, bottom])[0]\n",
    "   \n",
    "    max_distance=distance.max()\n",
    "    \n",
    "    radius =int(0.8*max_distance)\n",
    "    perimeter =(2*np.pi*radius)\n",
    "    \n",
    "    circular_roi =np.zeros(thresholded.shape[:2],dtype=\"uint8\")\n",
    "    cv2.circle(circular_roi,(center_X,center_Y),radius,255,10)\n",
    "    \n",
    "    circular_roi=cv2.bitwise_and(thresholded,thresholded,mask=circular_roi)\n",
    "    image,contour,hierarchy =cv2.findContours(circular_roi.copy(),cv2.RETR_EXTERNAL,cv2.CHAIN_APPROX_NONE)\n",
    "    \n",
    "    count=0\n",
    "    for cnt in contour:\n",
    "        (x,y,w,h) =cv2.boundingRect(cnt)\n",
    "        out_wrist =((center_Y+(center_Y*0.25))>(y+h))\n",
    "        minimize_points =((perimeter*0.25)>cnt.shape[0])\n",
    "        if out_wrist and minimize_points :\n",
    "            count+=1\n",
    "    \n",
    "    return count"
   ]
  },
  {
   "cell_type": "code",
   "execution_count": 8,
   "metadata": {},
   "outputs": [],
   "source": [
    "cam =  cv2.VideoCapture(0)\n",
    "num_frame =0\n",
    "while True:\n",
    "    ret,frame =cam.read()\n",
    "    frame =cv2.flip(frame,1)\n",
    "    frame_copy=frame.copy()\n",
    "    \n",
    "    roi = frame[roi_top:roi_bottom,roi_right:roi_let]\n",
    "    gray =cv2.cvtColor(roi,cv2.COLOR_BGR2GRAY)\n",
    "    gray =cv2.GaussianBlur(gray,(7,7),0)\n",
    "    \n",
    "    if num_frame<60:\n",
    "        calc_accum_avg(gray,accumulated_weight)\n",
    "        if num_frame <=59:\n",
    "            cv2.putText(frame_copy,\"WAIT,let it get the background\",(200,400),cv2.FONT_HERSHEY_COMPLEX,1,(0,0,255),2)\n",
    "    else:\n",
    "        hand =segment(gray)\n",
    "        if hand is not None:\n",
    "            thresholded,hand_segment =hand\n",
    "            cv2.drawContours(frame_copy,[hand_segment+(roi_right,roi_top)],-1,(255,0,0),1)\n",
    "            fingers=count_fingers( thresholded,hand_segment)\n",
    "            cv2.putText(frame_copy,str(fingers),(70,45),cv2.FONT_HERSHEY_SIMPLEX,1,(0,0,255),2)\n",
    "            cv2.imshow(\"Thesholded\",  thresholded)\n",
    "                        \n",
    "    cv2.rectangle(frame_copy,(roi_let,roi_top),(roi_right,roi_bottom),(0,0,255),5)\n",
    "                  \n",
    "    num_frame += 1\n",
    "                  \n",
    "    cv2.imshow(\"finger count\",frame_copy)\n",
    "    k=cv2.waitKey(1) & 0xff\n",
    "    if k==27:\n",
    "        break\n",
    "    \n",
    "cam.release()\n",
    "cv2.destroyAllWindows()\n",
    "            "
   ]
  },
  {
   "cell_type": "raw",
   "metadata": {},
   "source": [
    "follow me on my insta handle @hack.it29"
   ]
  }
 ],
 "metadata": {
  "kernelspec": {
   "display_name": "Python 3",
   "language": "python",
   "name": "python3"
  },
  "language_info": {
   "codemirror_mode": {
    "name": "ipython",
    "version": 3
   },
   "file_extension": ".py",
   "mimetype": "text/x-python",
   "name": "python",
   "nbconvert_exporter": "python",
   "pygments_lexer": "ipython3",
   "version": "3.6.6"
  }
 },
 "nbformat": 4,
 "nbformat_minor": 2
}
